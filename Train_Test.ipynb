{
 "cells": [
  {
   "cell_type": "code",
   "execution_count": 137,
   "metadata": {},
   "outputs": [],
   "source": [
    "# Dependencies\n",
    "import matplotlib.pyplot as plt\n",
    "import numpy as np\n",
    "import pandas as pd"
   ]
  },
  {
   "cell_type": "code",
   "execution_count": 138,
   "metadata": {},
   "outputs": [],
   "source": [
    "academic = pd.read_csv(\"Stu_processed.csv\")\n",
    "money = pd.read_csv(\"Financial_processed.csv\")"
   ]
  },
  {
   "cell_type": "code",
   "execution_count": 139,
   "metadata": {},
   "outputs": [
    {
     "name": "stdout",
     "output_type": "stream",
     "text": [
      "(1789, 14)\n"
     ]
    }
   ],
   "source": [
    "print(academic.shape)\n"
   ]
  },
  {
   "cell_type": "code",
   "execution_count": 140,
   "metadata": {},
   "outputs": [
    {
     "data": {
      "text/html": [
       "<div>\n",
       "<style scoped>\n",
       "    .dataframe tbody tr th:only-of-type {\n",
       "        vertical-align: middle;\n",
       "    }\n",
       "\n",
       "    .dataframe tbody tr th {\n",
       "        vertical-align: top;\n",
       "    }\n",
       "\n",
       "    .dataframe thead th {\n",
       "        text-align: right;\n",
       "    }\n",
       "</style>\n",
       "<table border=\"1\" class=\"dataframe\">\n",
       "  <thead>\n",
       "    <tr style=\"text-align: right;\">\n",
       "      <th></th>\n",
       "      <th>ID</th>\n",
       "      <th>Grade</th>\n",
       "      <th>Term_GPA</th>\n",
       "      <th>Course</th>\n",
       "      <th>Name</th>\n",
       "      <th>Age</th>\n",
       "      <th>Attendance</th>\n",
       "      <th>Gender</th>\n",
       "      <th>Latino</th>\n",
       "      <th>Race</th>\n",
       "      <th>ZIP</th>\n",
       "      <th>LAT</th>\n",
       "      <th>LNG</th>\n",
       "      <th>id</th>\n",
       "    </tr>\n",
       "  </thead>\n",
       "  <tbody>\n",
       "    <tr>\n",
       "      <th>0</th>\n",
       "      <td>18000007</td>\n",
       "      <td>2.3</td>\n",
       "      <td>2.23</td>\n",
       "      <td>ECO 110</td>\n",
       "      <td>Microeconomics</td>\n",
       "      <td>23</td>\n",
       "      <td>88.89</td>\n",
       "      <td>2</td>\n",
       "      <td>1</td>\n",
       "      <td>5</td>\n",
       "      <td>92126</td>\n",
       "      <td>32.908449</td>\n",
       "      <td>-117.14138</td>\n",
       "      <td>76</td>\n",
       "    </tr>\n",
       "    <tr>\n",
       "      <th>1</th>\n",
       "      <td>18000007</td>\n",
       "      <td>1.0</td>\n",
       "      <td>2.23</td>\n",
       "      <td>INT 110</td>\n",
       "      <td>Critical Reasoning</td>\n",
       "      <td>23</td>\n",
       "      <td>50.00</td>\n",
       "      <td>2</td>\n",
       "      <td>1</td>\n",
       "      <td>5</td>\n",
       "      <td>92126</td>\n",
       "      <td>32.908449</td>\n",
       "      <td>-117.14138</td>\n",
       "      <td>29</td>\n",
       "    </tr>\n",
       "    <tr>\n",
       "      <th>2</th>\n",
       "      <td>18000007</td>\n",
       "      <td>2.3</td>\n",
       "      <td>2.23</td>\n",
       "      <td>WRI 100</td>\n",
       "      <td>College Composition I</td>\n",
       "      <td>23</td>\n",
       "      <td>55.81</td>\n",
       "      <td>2</td>\n",
       "      <td>1</td>\n",
       "      <td>5</td>\n",
       "      <td>92126</td>\n",
       "      <td>32.908449</td>\n",
       "      <td>-117.14138</td>\n",
       "      <td>10</td>\n",
       "    </tr>\n",
       "    <tr>\n",
       "      <th>3</th>\n",
       "      <td>18000007</td>\n",
       "      <td>3.3</td>\n",
       "      <td>2.23</td>\n",
       "      <td>MTH 100</td>\n",
       "      <td>College Algebra</td>\n",
       "      <td>23</td>\n",
       "      <td>60.00</td>\n",
       "      <td>2</td>\n",
       "      <td>1</td>\n",
       "      <td>5</td>\n",
       "      <td>92126</td>\n",
       "      <td>32.908449</td>\n",
       "      <td>-117.14138</td>\n",
       "      <td>57</td>\n",
       "    </tr>\n",
       "    <tr>\n",
       "      <th>4</th>\n",
       "      <td>18000007</td>\n",
       "      <td>3.7</td>\n",
       "      <td>2.25</td>\n",
       "      <td>MGT 315</td>\n",
       "      <td>Organizational Behavior</td>\n",
       "      <td>23</td>\n",
       "      <td>59.18</td>\n",
       "      <td>2</td>\n",
       "      <td>1</td>\n",
       "      <td>5</td>\n",
       "      <td>92126</td>\n",
       "      <td>32.908449</td>\n",
       "      <td>-117.14138</td>\n",
       "      <td>41</td>\n",
       "    </tr>\n",
       "  </tbody>\n",
       "</table>\n",
       "</div>"
      ],
      "text/plain": [
       "         ID  Grade  Term_GPA   Course                     Name  Age  \\\n",
       "0  18000007    2.3      2.23  ECO 110           Microeconomics   23   \n",
       "1  18000007    1.0      2.23  INT 110       Critical Reasoning   23   \n",
       "2  18000007    2.3      2.23  WRI 100    College Composition I   23   \n",
       "3  18000007    3.3      2.23  MTH 100          College Algebra   23   \n",
       "4  18000007    3.7      2.25  MGT 315  Organizational Behavior   23   \n",
       "\n",
       "   Attendance  Gender  Latino  Race    ZIP        LAT        LNG  id  \n",
       "0       88.89       2       1     5  92126  32.908449 -117.14138  76  \n",
       "1       50.00       2       1     5  92126  32.908449 -117.14138  29  \n",
       "2       55.81       2       1     5  92126  32.908449 -117.14138  10  \n",
       "3       60.00       2       1     5  92126  32.908449 -117.14138  57  \n",
       "4       59.18       2       1     5  92126  32.908449 -117.14138  41  "
      ]
     },
     "execution_count": 140,
     "metadata": {},
     "output_type": "execute_result"
    }
   ],
   "source": [
    "academic.head()"
   ]
  },
  {
   "cell_type": "code",
   "execution_count": 141,
   "metadata": {},
   "outputs": [
    {
     "data": {
      "text/html": [
       "<div>\n",
       "<style scoped>\n",
       "    .dataframe tbody tr th:only-of-type {\n",
       "        vertical-align: middle;\n",
       "    }\n",
       "\n",
       "    .dataframe tbody tr th {\n",
       "        vertical-align: top;\n",
       "    }\n",
       "\n",
       "    .dataframe thead th {\n",
       "        text-align: right;\n",
       "    }\n",
       "</style>\n",
       "<table border=\"1\" class=\"dataframe\">\n",
       "  <thead>\n",
       "    <tr style=\"text-align: right;\">\n",
       "      <th></th>\n",
       "      <th>ID</th>\n",
       "      <th>Term_GPA</th>\n",
       "      <th>Age</th>\n",
       "      <th>Attendance</th>\n",
       "      <th>Gender</th>\n",
       "      <th>Latino</th>\n",
       "      <th>Race</th>\n",
       "    </tr>\n",
       "  </thead>\n",
       "  <tbody>\n",
       "    <tr>\n",
       "      <th>0</th>\n",
       "      <td>18000007</td>\n",
       "      <td>2.23</td>\n",
       "      <td>23</td>\n",
       "      <td>88.89</td>\n",
       "      <td>2</td>\n",
       "      <td>1</td>\n",
       "      <td>5</td>\n",
       "    </tr>\n",
       "    <tr>\n",
       "      <th>1</th>\n",
       "      <td>18000007</td>\n",
       "      <td>2.23</td>\n",
       "      <td>23</td>\n",
       "      <td>50.00</td>\n",
       "      <td>2</td>\n",
       "      <td>1</td>\n",
       "      <td>5</td>\n",
       "    </tr>\n",
       "    <tr>\n",
       "      <th>2</th>\n",
       "      <td>18000007</td>\n",
       "      <td>2.23</td>\n",
       "      <td>23</td>\n",
       "      <td>55.81</td>\n",
       "      <td>2</td>\n",
       "      <td>1</td>\n",
       "      <td>5</td>\n",
       "    </tr>\n",
       "    <tr>\n",
       "      <th>3</th>\n",
       "      <td>18000007</td>\n",
       "      <td>2.23</td>\n",
       "      <td>23</td>\n",
       "      <td>60.00</td>\n",
       "      <td>2</td>\n",
       "      <td>1</td>\n",
       "      <td>5</td>\n",
       "    </tr>\n",
       "    <tr>\n",
       "      <th>4</th>\n",
       "      <td>18000007</td>\n",
       "      <td>2.25</td>\n",
       "      <td>23</td>\n",
       "      <td>59.18</td>\n",
       "      <td>2</td>\n",
       "      <td>1</td>\n",
       "      <td>5</td>\n",
       "    </tr>\n",
       "  </tbody>\n",
       "</table>\n",
       "</div>"
      ],
      "text/plain": [
       "         ID  Term_GPA  Age  Attendance  Gender  Latino  Race\n",
       "0  18000007      2.23   23       88.89       2       1     5\n",
       "1  18000007      2.23   23       50.00       2       1     5\n",
       "2  18000007      2.23   23       55.81       2       1     5\n",
       "3  18000007      2.23   23       60.00       2       1     5\n",
       "4  18000007      2.25   23       59.18       2       1     5"
      ]
     },
     "execution_count": 141,
     "metadata": {},
     "output_type": "execute_result"
    }
   ],
   "source": [
    "#select datapoints\n",
    "stu = academic[['ID', \"Term_GPA\", 'Age', 'Attendance', \\\n",
    "                 'Gender','Latino', 'Race', ]].copy()\n",
    "stu.head()"
   ]
  },
  {
   "cell_type": "code",
   "execution_count": 142,
   "metadata": {},
   "outputs": [
    {
     "name": "stdout",
     "output_type": "stream",
     "text": [
      "(366, 7)\n"
     ]
    }
   ],
   "source": [
    "print(money.shape)\n"
   ]
  },
  {
   "cell_type": "code",
   "execution_count": 143,
   "metadata": {},
   "outputs": [
    {
     "data": {
      "text/html": [
       "<div>\n",
       "<style scoped>\n",
       "    .dataframe tbody tr th:only-of-type {\n",
       "        vertical-align: middle;\n",
       "    }\n",
       "\n",
       "    .dataframe tbody tr th {\n",
       "        vertical-align: top;\n",
       "    }\n",
       "\n",
       "    .dataframe thead th {\n",
       "        text-align: right;\n",
       "    }\n",
       "</style>\n",
       "<table border=\"1\" class=\"dataframe\">\n",
       "  <thead>\n",
       "    <tr style=\"text-align: right;\">\n",
       "      <th></th>\n",
       "      <th>ID</th>\n",
       "      <th>Grants</th>\n",
       "      <th>Loans</th>\n",
       "      <th>Federal</th>\n",
       "      <th>Institutional</th>\n",
       "      <th>Net_Total</th>\n",
       "      <th>YearBegin</th>\n",
       "    </tr>\n",
       "  </thead>\n",
       "  <tbody>\n",
       "    <tr>\n",
       "      <th>0</th>\n",
       "      <td>2016000026</td>\n",
       "      <td>13490.5</td>\n",
       "      <td>5500.0</td>\n",
       "      <td>7333.0</td>\n",
       "      <td>10657.5</td>\n",
       "      <td>18934.5</td>\n",
       "      <td>1970-01-01 00:00:00.000002016</td>\n",
       "    </tr>\n",
       "    <tr>\n",
       "      <th>1</th>\n",
       "      <td>AC2802324</td>\n",
       "      <td>18065.5</td>\n",
       "      <td>7500.0</td>\n",
       "      <td>11183.0</td>\n",
       "      <td>14382.5</td>\n",
       "      <td>25487.5</td>\n",
       "      <td>1970-01-01 00:00:00.000002016</td>\n",
       "    </tr>\n",
       "    <tr>\n",
       "      <th>2</th>\n",
       "      <td>2016000037</td>\n",
       "      <td>11700.0</td>\n",
       "      <td>6500.0</td>\n",
       "      <td>6500.0</td>\n",
       "      <td>11700.0</td>\n",
       "      <td>18132.0</td>\n",
       "      <td>1970-01-01 00:00:00.000002016</td>\n",
       "    </tr>\n",
       "    <tr>\n",
       "      <th>3</th>\n",
       "      <td>2016000055</td>\n",
       "      <td>6000.0</td>\n",
       "      <td>5500.0</td>\n",
       "      <td>5500.0</td>\n",
       "      <td>6000.0</td>\n",
       "      <td>11444.0</td>\n",
       "      <td>1970-01-01 00:00:00.000002016</td>\n",
       "    </tr>\n",
       "    <tr>\n",
       "      <th>4</th>\n",
       "      <td>AR7969044</td>\n",
       "      <td>14745.5</td>\n",
       "      <td>6500.0</td>\n",
       "      <td>9383.0</td>\n",
       "      <td>11862.5</td>\n",
       "      <td>21177.5</td>\n",
       "      <td>1970-01-01 00:00:00.000002016</td>\n",
       "    </tr>\n",
       "  </tbody>\n",
       "</table>\n",
       "</div>"
      ],
      "text/plain": [
       "           ID   Grants   Loans  Federal  Institutional  Net_Total  \\\n",
       "0  2016000026  13490.5  5500.0   7333.0        10657.5    18934.5   \n",
       "1   AC2802324  18065.5  7500.0  11183.0        14382.5    25487.5   \n",
       "2  2016000037  11700.0  6500.0   6500.0        11700.0    18132.0   \n",
       "3  2016000055   6000.0  5500.0   5500.0         6000.0    11444.0   \n",
       "4   AR7969044  14745.5  6500.0   9383.0        11862.5    21177.5   \n",
       "\n",
       "                       YearBegin  \n",
       "0  1970-01-01 00:00:00.000002016  \n",
       "1  1970-01-01 00:00:00.000002016  \n",
       "2  1970-01-01 00:00:00.000002016  \n",
       "3  1970-01-01 00:00:00.000002016  \n",
       "4  1970-01-01 00:00:00.000002016  "
      ]
     },
     "execution_count": 143,
     "metadata": {},
     "output_type": "execute_result"
    }
   ],
   "source": [
    "money.head()"
   ]
  },
  {
   "cell_type": "code",
   "execution_count": 144,
   "metadata": {},
   "outputs": [],
   "source": [
    "dfM = money.drop(['Grants', 'Net_Total','Federal', 'YearBegin'], axis=1)"
   ]
  },
  {
   "cell_type": "code",
   "execution_count": 145,
   "metadata": {},
   "outputs": [
    {
     "data": {
      "text/html": [
       "<div>\n",
       "<style scoped>\n",
       "    .dataframe tbody tr th:only-of-type {\n",
       "        vertical-align: middle;\n",
       "    }\n",
       "\n",
       "    .dataframe tbody tr th {\n",
       "        vertical-align: top;\n",
       "    }\n",
       "\n",
       "    .dataframe thead th {\n",
       "        text-align: right;\n",
       "    }\n",
       "</style>\n",
       "<table border=\"1\" class=\"dataframe\">\n",
       "  <thead>\n",
       "    <tr style=\"text-align: right;\">\n",
       "      <th></th>\n",
       "      <th>ID</th>\n",
       "      <th>Loans</th>\n",
       "      <th>Institutional</th>\n",
       "    </tr>\n",
       "  </thead>\n",
       "  <tbody>\n",
       "    <tr>\n",
       "      <th>0</th>\n",
       "      <td>2016000026</td>\n",
       "      <td>5500.0</td>\n",
       "      <td>10657.5</td>\n",
       "    </tr>\n",
       "    <tr>\n",
       "      <th>1</th>\n",
       "      <td>AC2802324</td>\n",
       "      <td>7500.0</td>\n",
       "      <td>14382.5</td>\n",
       "    </tr>\n",
       "    <tr>\n",
       "      <th>2</th>\n",
       "      <td>2016000037</td>\n",
       "      <td>6500.0</td>\n",
       "      <td>11700.0</td>\n",
       "    </tr>\n",
       "    <tr>\n",
       "      <th>3</th>\n",
       "      <td>2016000055</td>\n",
       "      <td>5500.0</td>\n",
       "      <td>6000.0</td>\n",
       "    </tr>\n",
       "    <tr>\n",
       "      <th>4</th>\n",
       "      <td>AR7969044</td>\n",
       "      <td>6500.0</td>\n",
       "      <td>11862.5</td>\n",
       "    </tr>\n",
       "  </tbody>\n",
       "</table>\n",
       "</div>"
      ],
      "text/plain": [
       "           ID   Loans  Institutional\n",
       "0  2016000026  5500.0        10657.5\n",
       "1   AC2802324  7500.0        14382.5\n",
       "2  2016000037  6500.0        11700.0\n",
       "3  2016000055  5500.0         6000.0\n",
       "4   AR7969044  6500.0        11862.5"
      ]
     },
     "execution_count": 145,
     "metadata": {},
     "output_type": "execute_result"
    }
   ],
   "source": [
    "dfM.head()"
   ]
  },
  {
   "cell_type": "code",
   "execution_count": 146,
   "metadata": {},
   "outputs": [
    {
     "data": {
      "text/html": [
       "<div>\n",
       "<style scoped>\n",
       "    .dataframe tbody tr th:only-of-type {\n",
       "        vertical-align: middle;\n",
       "    }\n",
       "\n",
       "    .dataframe tbody tr th {\n",
       "        vertical-align: top;\n",
       "    }\n",
       "\n",
       "    .dataframe thead th {\n",
       "        text-align: right;\n",
       "    }\n",
       "</style>\n",
       "<table border=\"1\" class=\"dataframe\">\n",
       "  <thead>\n",
       "    <tr style=\"text-align: right;\">\n",
       "      <th></th>\n",
       "      <th>ID</th>\n",
       "      <th>Term_GPA</th>\n",
       "      <th>Age</th>\n",
       "      <th>Attendance</th>\n",
       "      <th>Gender</th>\n",
       "      <th>Latino</th>\n",
       "      <th>Race</th>\n",
       "    </tr>\n",
       "  </thead>\n",
       "  <tbody>\n",
       "    <tr>\n",
       "      <th>0</th>\n",
       "      <td>18000007</td>\n",
       "      <td>2.23</td>\n",
       "      <td>23</td>\n",
       "      <td>88.89</td>\n",
       "      <td>2</td>\n",
       "      <td>1</td>\n",
       "      <td>5</td>\n",
       "    </tr>\n",
       "    <tr>\n",
       "      <th>1</th>\n",
       "      <td>18000007</td>\n",
       "      <td>2.23</td>\n",
       "      <td>23</td>\n",
       "      <td>50.00</td>\n",
       "      <td>2</td>\n",
       "      <td>1</td>\n",
       "      <td>5</td>\n",
       "    </tr>\n",
       "    <tr>\n",
       "      <th>2</th>\n",
       "      <td>18000007</td>\n",
       "      <td>2.23</td>\n",
       "      <td>23</td>\n",
       "      <td>55.81</td>\n",
       "      <td>2</td>\n",
       "      <td>1</td>\n",
       "      <td>5</td>\n",
       "    </tr>\n",
       "    <tr>\n",
       "      <th>3</th>\n",
       "      <td>18000007</td>\n",
       "      <td>2.23</td>\n",
       "      <td>23</td>\n",
       "      <td>60.00</td>\n",
       "      <td>2</td>\n",
       "      <td>1</td>\n",
       "      <td>5</td>\n",
       "    </tr>\n",
       "    <tr>\n",
       "      <th>4</th>\n",
       "      <td>18000007</td>\n",
       "      <td>2.25</td>\n",
       "      <td>23</td>\n",
       "      <td>59.18</td>\n",
       "      <td>2</td>\n",
       "      <td>1</td>\n",
       "      <td>5</td>\n",
       "    </tr>\n",
       "  </tbody>\n",
       "</table>\n",
       "</div>"
      ],
      "text/plain": [
       "         ID  Term_GPA  Age  Attendance  Gender  Latino  Race\n",
       "0  18000007      2.23   23       88.89       2       1     5\n",
       "1  18000007      2.23   23       50.00       2       1     5\n",
       "2  18000007      2.23   23       55.81       2       1     5\n",
       "3  18000007      2.23   23       60.00       2       1     5\n",
       "4  18000007      2.25   23       59.18       2       1     5"
      ]
     },
     "execution_count": 146,
     "metadata": {},
     "output_type": "execute_result"
    }
   ],
   "source": [
    "stu.head()"
   ]
  },
  {
   "cell_type": "code",
   "execution_count": 147,
   "metadata": {},
   "outputs": [
    {
     "name": "stdout",
     "output_type": "stream",
     "text": [
      "(1789, 7)\n"
     ]
    }
   ],
   "source": [
    "print(stu.shape)"
   ]
  },
  {
   "cell_type": "code",
   "execution_count": 148,
   "metadata": {},
   "outputs": [
    {
     "data": {
      "text/plain": [
       "count    1789.000000\n",
       "mean        2.772493\n",
       "std         0.760508\n",
       "min         0.300000\n",
       "25%         2.330000\n",
       "50%         2.820000\n",
       "75%         3.340000\n",
       "max         4.000000\n",
       "Name: Term_GPA, dtype: float64"
      ]
     },
     "execution_count": 148,
     "metadata": {},
     "output_type": "execute_result"
    }
   ],
   "source": [
    "stu.Term_GPA.describe()"
   ]
  },
  {
   "cell_type": "code",
   "execution_count": null,
   "metadata": {},
   "outputs": [],
   "source": []
  },
  {
   "cell_type": "code",
   "execution_count": 149,
   "metadata": {},
   "outputs": [],
   "source": [
    "import matplotlib.pyplot as plt\n",
    "plt.style.use(style='ggplot')\n",
    "plt.rcParams['figure.figsize'] = (10, 6)"
   ]
  },
  {
   "cell_type": "code",
   "execution_count": 150,
   "metadata": {},
   "outputs": [
    {
     "name": "stdout",
     "output_type": "stream",
     "text": [
      "Skewness is:  -0.639616552867032\n"
     ]
    },
    {
     "data": {
      "image/png": "[encoded data removed]",
      "text/plain": [
       "<Figure size 720x432 with 1 Axes>"
      ]
     },
     "metadata": {},
     "output_type": "display_data"
    }
   ],
   "source": [
    "# Skewness\n",
    "print(\"Skewness is: \", stu.Term_GPA.skew())\n",
    "plt.hist(stu.Term_GPA, color='orange')\n",
    "plt.show()"
   ]
  },
  {
   "cell_type": "code",
   "execution_count": 151,
   "metadata": {},
   "outputs": [],
   "source": [
    "# merge_table = pd.merge(stu, dfM, on=\"ID\", how=\"outer\")\n",
    "# merge_table"
   ]
  },
  {
   "cell_type": "code",
   "execution_count": null,
   "metadata": {},
   "outputs": [],
   "source": []
  },
  {
   "cell_type": "code",
   "execution_count": 152,
   "metadata": {},
   "outputs": [
    {
     "data": {
      "text/html": [
       "<div>\n",
       "<style scoped>\n",
       "    .dataframe tbody tr th:only-of-type {\n",
       "        vertical-align: middle;\n",
       "    }\n",
       "\n",
       "    .dataframe tbody tr th {\n",
       "        vertical-align: top;\n",
       "    }\n",
       "\n",
       "    .dataframe thead th {\n",
       "        text-align: right;\n",
       "    }\n",
       "</style>\n",
       "<table border=\"1\" class=\"dataframe\">\n",
       "  <thead>\n",
       "    <tr style=\"text-align: right;\">\n",
       "      <th></th>\n",
       "      <th>Term_GPA</th>\n",
       "      <th>Age</th>\n",
       "      <th>Attendance</th>\n",
       "      <th>Gender</th>\n",
       "      <th>Latino</th>\n",
       "      <th>Race</th>\n",
       "    </tr>\n",
       "  </thead>\n",
       "  <tbody>\n",
       "    <tr>\n",
       "      <th>0</th>\n",
       "      <td>2.23</td>\n",
       "      <td>23</td>\n",
       "      <td>88.89</td>\n",
       "      <td>2</td>\n",
       "      <td>1</td>\n",
       "      <td>5</td>\n",
       "    </tr>\n",
       "    <tr>\n",
       "      <th>1</th>\n",
       "      <td>2.23</td>\n",
       "      <td>23</td>\n",
       "      <td>50.00</td>\n",
       "      <td>2</td>\n",
       "      <td>1</td>\n",
       "      <td>5</td>\n",
       "    </tr>\n",
       "    <tr>\n",
       "      <th>2</th>\n",
       "      <td>2.23</td>\n",
       "      <td>23</td>\n",
       "      <td>55.81</td>\n",
       "      <td>2</td>\n",
       "      <td>1</td>\n",
       "      <td>5</td>\n",
       "    </tr>\n",
       "    <tr>\n",
       "      <th>3</th>\n",
       "      <td>2.23</td>\n",
       "      <td>23</td>\n",
       "      <td>60.00</td>\n",
       "      <td>2</td>\n",
       "      <td>1</td>\n",
       "      <td>5</td>\n",
       "    </tr>\n",
       "    <tr>\n",
       "      <th>4</th>\n",
       "      <td>2.25</td>\n",
       "      <td>23</td>\n",
       "      <td>59.18</td>\n",
       "      <td>2</td>\n",
       "      <td>1</td>\n",
       "      <td>5</td>\n",
       "    </tr>\n",
       "  </tbody>\n",
       "</table>\n",
       "</div>"
      ],
      "text/plain": [
       "   Term_GPA  Age  Attendance  Gender  Latino  Race\n",
       "0      2.23   23       88.89       2       1     5\n",
       "1      2.23   23       50.00       2       1     5\n",
       "2      2.23   23       55.81       2       1     5\n",
       "3      2.23   23       60.00       2       1     5\n",
       "4      2.25   23       59.18       2       1     5"
      ]
     },
     "execution_count": 152,
     "metadata": {},
     "output_type": "execute_result"
    }
   ],
   "source": [
    "stu.drop(columns = 'ID', axis=1, inplace=True)\n",
    "stu.head()"
   ]
  },
  {
   "cell_type": "code",
   "execution_count": 153,
   "metadata": {},
   "outputs": [
    {
     "name": "stdout",
     "output_type": "stream",
     "text": [
      "(1789, 6)\n"
     ]
    }
   ],
   "source": [
    "print(stu.shape)"
   ]
  },
  {
   "cell_type": "code",
   "execution_count": 154,
   "metadata": {},
   "outputs": [
    {
     "name": "stdout",
     "output_type": "stream",
     "text": [
      "(1789, 3) (1789, 1)\n"
     ]
    }
   ],
   "source": [
    "X = stu[[\"Age\", 'Attendance', \"Gender\"]]\n",
    "y = stu[\"Term_GPA\"].values.reshape(-1, 1)\n",
    "print(X.shape, y.shape)"
   ]
  },
  {
   "cell_type": "code",
   "execution_count": 155,
   "metadata": {},
   "outputs": [],
   "source": [
    "from sklearn.model_selection import train_test_split\n",
    "\n",
    "X_train, X_test, y_train, y_test = train_test_split(X, y, random_state=42)"
   ]
  },
  {
   "cell_type": "code",
   "execution_count": 159,
   "metadata": {},
   "outputs": [],
   "source": [
    "X, y = make_blobs(centers=3, random_state=42)"
   ]
  },
  {
   "cell_type": "code",
   "execution_count": 160,
   "metadata": {},
   "outputs": [
    {
     "data": {
      "text/plain": [
       "<matplotlib.collections.PathCollection at 0x1a24629ba8>"
      ]
     },
     "execution_count": 160,
     "metadata": {},
     "output_type": "execute_result"
    },
    {
     "data": {
      "image/png": "[encoded data removed]",
      "text/plain": [
       "<Figure size 720x432 with 1 Axes>"
      ]
     },
     "metadata": {},
     "output_type": "display_data"
    }
   ],
   "source": [
    "# Visualizing both classes\n",
    "plt.scatter(X[:, 0], X[:, 1], c=y)"
   ]
  },
  {
   "cell_type": "code",
   "execution_count": null,
   "metadata": {},
   "outputs": [],
   "source": []
  },
  {
   "cell_type": "code",
   "execution_count": null,
   "metadata": {},
   "outputs": [],
   "source": []
  },
  {
   "cell_type": "code",
   "execution_count": null,
   "metadata": {},
   "outputs": [],
   "source": []
  },
  {
   "cell_type": "code",
   "execution_count": null,
   "metadata": {},
   "outputs": [],
   "source": []
  }
 ],
 "metadata": {
  "kernelspec": {
   "display_name": "Python 3",
   "language": "python",
   "name": "python3"
  },
  "language_info": {
   "codemirror_mode": {
    "name": "ipython",
    "version": 3
   },
   "file_extension": ".py",
   "mimetype": "text/x-python",
   "name": "python",
   "nbconvert_exporter": "python",
   "pygments_lexer": "ipython3",
   "version": "3.6.8"
  }
 },
 "nbformat": 4,
 "nbformat_minor": 2
}
